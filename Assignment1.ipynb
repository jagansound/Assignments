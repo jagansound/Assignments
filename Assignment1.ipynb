## http://localhost:8888/notebooks/Assignment%201.ipynb#

## 1.	What are the differences between operators and values in the following?
## Operators are used to calculate the values eg 1*2 = 2 (1 &2 are values  * is operator) 
## 'hello' --> value 
## -87.8 --> - is operator & 87.8 is value.
## - --> is operator (Subtraction Symbol)
## / --> is operator (Division Symbol)
## + ---> is operator (Addition Symbol)
## 6---->value

1*2

## 2. What is the difference between string and variable?
## Spam  --> Variable used for referring the values e.g. spam=10
spam=10
print(spam)

## 'spam' -> String is the sequence of characters should be denoted within quotes
print('spam')

## 3. Describe three different data forms.
##•	Integer --- Allows numeric values
##•	String. ---- 'spam' -> String is the sequence of characters should be denoted within quotes
##•	Boolean--- allows one of two values ie True(1) and false(0)

## 4. What makes up an expression? What are the functions of all expressions?
##  Ans: An expression is an instruction that combines values and operators.
##        The functions of all expressions it always evaluates down to a single value.

##5. In this chapter, assignment statements such as spam = 10 were added. What's the difference between a declaration and an expression?
## Ans:  Declaration ----> Int(spam), str(),float()
spam =10
print(int(spam))

spam =10
print(str(spam))

spam =10
print(float(spam))

## An expression is an instruction that combines values and operators.
## In this expression of spam = 10 then 10 is the value assigned in the variable spam.

## 6. After running the following code, what does the variable bacon contain?
bacon = 22
bacon + 1

## 7. What should the values of the following two terms be?
## a) Concatenating the string
'spam' + 'spamspam' 

## b) display thrice of the string as ‘*’ multiply operator utilized
'spam' * 3 

##8. Why is it that eggs is a true variable name but 100 is not? 
## Ans: Eggs is a true variable name because eggs are considered as variable but 100 is not a variable it is a value.

##2) float function float()
c = float(10) 
print (c)

##3) String function str()
b = str("Display string") 
print (b)

##10. What is the error caused by this expression? What would you do about it?
##'I have eaten ' + 99 + ' burritos.'
## Ans: Concatenate can be done only string to string 
## So Correct expression of string concatenation is 
'I have eaten ' + ' burritos.'

